{
 "cells": [
  {
   "cell_type": "code",
   "execution_count": 1,
   "metadata": {},
   "outputs": [
    {
     "name": "stdout",
     "output_type": "stream",
     "text": [
      "Número da conta: BT154500\n",
      "Titular: João\n",
      "Saldo: 1000\n",
      "Limite: 500\n"
     ]
    }
   ],
   "source": [
    "import random\n",
    "import string\n",
    "\n",
    "# Classe e suas funções para operações bancárias comuns\n",
    "class ContaBancaria:\n",
    "    def __init__(self, titular, saldo, limite):\n",
    "        self.numero_conta = self.gerar_numero_conta()\n",
    "        self.titular = titular\n",
    "        self.saldo = saldo\n",
    "        self.limite = limite\n",
    "# Número da conta é gerado de forma randômica depois de cadastrar o cliente\n",
    "    def gerar_numero_conta(self):\n",
    "        letras = ''.join(random.choices(string.ascii_uppercase, k=2))\n",
    "        numeros = ''.join(random.choices(string.digits, k=6))\n",
    "        return letras + numeros\n",
    "\n",
    "    def depositar(self, valor):\n",
    "        self.saldo += valor\n",
    "\n",
    "    def sacar(self, valor):\n",
    "        if self.saldo - valor < -self.limite:\n",
    "            return False\n",
    "        else:\n",
    "            self.saldo -= valor\n",
    "            return True\n",
    "\n",
    "    def transferir(self, valor, destino):\n",
    "        if self.sacar(valor):\n",
    "            destino.depositar(valor)\n",
    "            return True\n",
    "        else:\n",
    "            return False\n",
    "\n",
    "    def consultar_saldo(self):\n",
    "        return self.saldo\n",
    "\n",
    "    def consultar_limite(self):\n",
    "        return self.limite\n",
    "\n",
    "    def consultar_titular(self):\n",
    "        return self.titular\n",
    "\n",
    "    def consultar_numero_conta(self):\n",
    "        return self.numero_conta\n",
    "\n",
    "\n",
    "conta1 = ContaBancaria(\"João\", 1000, 500)\n",
    "print(\"Número da conta:\", conta1.consultar_numero_conta())\n",
    "print(\"Titular:\", conta1.consultar_titular())\n",
    "print(\"Saldo:\", conta1.consultar_saldo())\n",
    "print(\"Limite:\", conta1.consultar_limite())"
   ]
  },
  {
   "cell_type": "code",
   "execution_count": 4,
   "metadata": {},
   "outputs": [
    {
     "name": "stdout",
     "output_type": "stream",
     "text": [
      "Número da conta: KD231936\n",
      "Titular: Maria\n",
      "Saldo: 500\n",
      "Limite: 200\n"
     ]
    }
   ],
   "source": [
    "conta2 = ContaBancaria(\"Maria\", 500, 200)\n",
    "print(\"Número da conta:\", conta2.consultar_numero_conta())\n",
    "print(\"Titular:\", conta2.consultar_titular())\n",
    "print(\"Saldo:\", conta2.consultar_saldo())\n",
    "print(\"Limite:\", conta2.consultar_limite())"
   ]
  },
  {
   "cell_type": "code",
   "execution_count": 5,
   "metadata": {},
   "outputs": [
    {
     "name": "stdout",
     "output_type": "stream",
     "text": [
      "Transferência realizada com sucesso!\n"
     ]
    }
   ],
   "source": [
    "\n",
    "if conta1.transferir(200, conta2):\n",
    "    print(\"Transferência realizada com sucesso!\")\n",
    "else:\n",
    "    print(\"Saldo insuficiente para realizar a transferência.\")"
   ]
  },
  {
   "cell_type": "code",
   "execution_count": 6,
   "metadata": {},
   "outputs": [
    {
     "name": "stdout",
     "output_type": "stream",
     "text": [
      "Saldo: 700\n"
     ]
    }
   ],
   "source": [
    "print(\"Saldo:\", conta2.consultar_saldo())"
   ]
  },
  {
   "cell_type": "code",
   "execution_count": 7,
   "metadata": {},
   "outputs": [
    {
     "name": "stdout",
     "output_type": "stream",
     "text": [
      "<class '__main__.ContaBancaria'>\n"
     ]
    }
   ],
   "source": [
    "print(ContaBancaria)"
   ]
  },
  {
   "cell_type": "code",
   "execution_count": 8,
   "metadata": {},
   "outputs": [
    {
     "name": "stdout",
     "output_type": "stream",
     "text": [
      "Número da conta: FE653526\n",
      "Titular: Leonardo\n",
      "Saldo: 11500\n",
      "Limite: 2000\n"
     ]
    }
   ],
   "source": [
    "conta3 = ContaBancaria(\"Leonardo\", 11500, 2000)\n",
    "print(\"Número da conta:\", conta3.consultar_numero_conta())\n",
    "print(\"Titular:\", conta3.consultar_titular())\n",
    "print(\"Saldo:\", conta3.consultar_saldo())\n",
    "print(\"Limite:\", conta3.consultar_limite())"
   ]
  },
  {
   "cell_type": "code",
   "execution_count": 9,
   "metadata": {},
   "outputs": [
    {
     "name": "stdout",
     "output_type": "stream",
     "text": [
      "Número da conta: BT154500\n",
      "Titular: João\n",
      "Saldo: 800\n",
      "Limite: 500\n",
      "\n",
      "Número da conta: KD231936\n",
      "Titular: Maria\n",
      "Saldo: 700\n",
      "Limite: 200\n",
      "\n",
      "Número da conta: FE653526\n",
      "Titular: Leonardo\n",
      "Saldo: 11500\n",
      "Limite: 2000\n",
      "\n"
     ]
    }
   ],
   "source": [
    "\n",
    "contas = [conta1, conta2, conta3]\n",
    "\n",
    "\n",
    "for conta in contas:\n",
    "    print(\"Número da conta:\", conta.consultar_numero_conta())\n",
    "    print(\"Titular:\", conta.consultar_titular())\n",
    "    print(\"Saldo:\", conta.consultar_saldo())\n",
    "    print(\"Limite:\", conta.consultar_limite())\n",
    "    print()"
   ]
  },
  {
   "cell_type": "code",
   "execution_count": 10,
   "metadata": {},
   "outputs": [
    {
     "name": "stdout",
     "output_type": "stream",
     "text": [
      "Saque realizado com sucesso!\n"
     ]
    }
   ],
   "source": [
    "\n",
    "if conta1.sacar(200):\n",
    "    print(\"Saque realizado com sucesso!\")\n",
    "else:\n",
    "    print(\"Saldo insuficiente para realizar o saque.\")"
   ]
  },
  {
   "cell_type": "code",
   "execution_count": 11,
   "metadata": {},
   "outputs": [
    {
     "name": "stdout",
     "output_type": "stream",
     "text": [
      "Saldo: 600\n"
     ]
    }
   ],
   "source": [
    "print(\"Saldo:\", conta1.consultar_saldo())"
   ]
  },
  {
   "cell_type": "code",
   "execution_count": 12,
   "metadata": {},
   "outputs": [
    {
     "name": "stdout",
     "output_type": "stream",
     "text": [
      "+-----------------+----------+-------+--------+\n",
      "| Número da conta | Titular  | Saldo | Limite |\n",
      "+-----------------+----------+-------+--------+\n",
      "|     BT154500    |   João   |  600  |  500   |\n",
      "|     KD231936    |  Maria   |  700  |  200   |\n",
      "|     FE653526    | Leonardo | 11500 |  2000  |\n",
      "+-----------------+----------+-------+--------+\n"
     ]
    }
   ],
   "source": [
    "from prettytable import PrettyTable\n",
    "\n",
    "\n",
    "tabela = PrettyTable()\n",
    "tabela.field_names = [\"Número da conta\", \"Titular\", \"Saldo\", \"Limite\"]\n",
    "\n",
    "\n",
    "for conta in contas:\n",
    "    tabela.add_row([conta.consultar_numero_conta(), conta.consultar_titular(), conta.consultar_saldo(), conta.consultar_limite()])\n",
    "\n",
    "\n",
    "print(tabela)"
   ]
  }
 ],
 "metadata": {
  "kernelspec": {
   "display_name": "Python 3",
   "language": "python",
   "name": "python3"
  },
  "language_info": {
   "codemirror_mode": {
    "name": "ipython",
    "version": 3
   },
   "file_extension": ".py",
   "mimetype": "text/x-python",
   "name": "python",
   "nbconvert_exporter": "python",
   "pygments_lexer": "ipython3",
   "version": "3.11.2"
  },
  "orig_nbformat": 4
 },
 "nbformat": 4,
 "nbformat_minor": 2
}
